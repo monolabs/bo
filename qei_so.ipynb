{
 "cells": [
  {
   "cell_type": "code",
   "execution_count": 180,
   "metadata": {},
   "outputs": [],
   "source": [
    "import time\n",
    "import warnings\n",
    "\n",
    "import torch\n",
    "import numpy as np\n",
    "\n",
    "device = torch.device(\"cuda:0\" if torch.cuda.is_available() else \"cpu\")\n",
    "dtype = torch.double\n",
    "\n",
    "from botorch.test_functions import Ackley\n",
    "from botorch.models import SingleTaskGP\n",
    "from gpytorch.mlls import ExactMarginalLogLikelihood\n",
    "from botorch.models.transforms.outcome import Standardize\n",
    "from botorch.models.transforms.input import Normalize\n",
    "from botorch.optim import optimize_acqf\n",
    "\n",
    "\n",
    "from botorch import fit_gpytorch_mll\n",
    "from botorch.acquisition.monte_carlo import qExpectedImprovement\n",
    "from botorch.acquisition.analytic import LogExpectedImprovement\n",
    "from botorch.exceptions import BadInitialCandidatesWarning\n",
    "from botorch.exceptions.warnings import NumericsWarning\n",
    "from botorch.sampling.normal import SobolQMCNormalSampler\n",
    "\n",
    "warnings.filterwarnings(\"ignore\", category=BadInitialCandidatesWarning)\n",
    "warnings.filterwarnings(\"ignore\", category=RuntimeWarning)\n",
    "warnings.filterwarnings(\"ignore\", category=NumericsWarning)\n",
    "\n",
    "import matplotlib.pyplot as plt\n",
    "%matplotlib inline"
   ]
  },
  {
   "cell_type": "code",
   "execution_count": 181,
   "metadata": {},
   "outputs": [
    {
     "data": {
      "text/plain": [
       "<torch._C.Generator at 0x1ff75f83790>"
      ]
     },
     "execution_count": 181,
     "metadata": {},
     "output_type": "execute_result"
    }
   ],
   "source": [
    "SMOKE_TEST = False\n",
    "\n",
    "# objective parameters\n",
    "DIM = 6\n",
    "LB = -5.0\n",
    "UB = 5.0\n",
    "BOUNDS = torch.tensor([[LB] * DIM, [UB] * DIM], device=device, dtype=dtype)\n",
    "\n",
    "# params for acqf optimization\n",
    "BATCH_SIZE = 1    #must be 1 for analytic acqf\n",
    "NUM_RESTARTS = 10 if not SMOKE_TEST else 2    # number of restarts to find optimized acqf\n",
    "RAW_SAMPLES = 512 if not SMOKE_TEST else 32    # X samples for the start of local optimization of acqf\n",
    "MC_SAMPLES = 256 if not SMOKE_TEST else 32    # MC samples for posterior distribution estimation\n",
    "\n",
    "# optim run params\n",
    "N_TRIALS = 5 if not SMOKE_TEST else 2\n",
    "N_BATCH = 30 if not SMOKE_TEST else 2\n",
    "\n",
    "torch.manual_seed(0)"
   ]
  },
  {
   "cell_type": "code",
   "execution_count": 182,
   "metadata": {},
   "outputs": [],
   "source": [
    "neg_ackley = Ackley(dim=DIM, negate=True)\n",
    "\n",
    "if DIM == 1:    # plot\n",
    "    x = torch.tensor(np.linspace(LB, UB, 1000), dtype=dtype).unsqueeze(-1)\n",
    "    y = neg_ackley(x)\n",
    "    plt.plot(x, y)"
   ]
  },
  {
   "cell_type": "code",
   "execution_count": 183,
   "metadata": {},
   "outputs": [],
   "source": [
    "def generate_initial_data(n=10):\n",
    "    # generate training data\n",
    "    train_x = torch.rand(10, DIM, device=device, dtype=dtype)\n",
    "    train_obj = neg_ackley(train_x).unsqueeze(-1)  # add output dimension\n",
    "    best_observed_value = train_obj.max().item()\n",
    "    return train_x, train_obj, best_observed_value\n",
    "\n",
    "\n",
    "def initialize_model(train_x, train_obj, state_dict=None):\n",
    "    # define models for objective and constraint\n",
    "    model = SingleTaskGP(\n",
    "        train_x, \n",
    "        train_obj,\n",
    "        outcome_transform=Standardize(train_obj.shape[-1]),\n",
    "        input_transform=Normalize(train_x.shape[-1])\n",
    "        ).to(train_x)\n",
    "    mll = ExactMarginalLogLikelihood(model.likelihood, model)\n",
    "    # load state dict if it is passed\n",
    "    if state_dict is not None:\n",
    "        model.load_state_dict(state_dict)\n",
    "    return mll, model"
   ]
  },
  {
   "cell_type": "code",
   "execution_count": 184,
   "metadata": {},
   "outputs": [],
   "source": [
    "def optimize_acqf_and_get_observation(acq_func):\n",
    "    \"\"\"Optimizes the acquisition function, and returns a new candidate and a noisy observation.\"\"\"\n",
    "    # optimize\n",
    "    candidates, _ = optimize_acqf(\n",
    "        acq_function=acq_func,\n",
    "        bounds=BOUNDS,\n",
    "        q=BATCH_SIZE,\n",
    "        num_restarts=NUM_RESTARTS,\n",
    "        raw_samples=RAW_SAMPLES,  # used for intialization heuristic\n",
    "        options={\"batch_limit\": 5, \"maxiter\": 200},\n",
    "    )\n",
    "    # observe new values\n",
    "    new_x = candidates.detach()\n",
    "    new_obj = neg_ackley(new_x).unsqueeze(-1)  # add output dimension\n",
    "    return new_x, new_obj\n",
    "\n",
    "\n",
    "def update_random_observations(best_random):\n",
    "    \"\"\"Simulates a random policy by taking a the current list of best values observed randomly,\n",
    "    drawing a new random point, observing its value, and updating the list.\n",
    "    \"\"\"\n",
    "    rand_x = torch.rand(BATCH_SIZE, DIM)\n",
    "    next_random_best = neg_ackley(rand_x).max().item()\n",
    "    best_random.append(max(best_random[-1], next_random_best))\n",
    "    return best_random"
   ]
  },
  {
   "cell_type": "code",
   "execution_count": 185,
   "metadata": {},
   "outputs": [
    {
     "name": "stdout",
     "output_type": "stream",
     "text": [
      "\n",
      "Trial  1 of 5 ..............................\n",
      "Trial  2 of 5 ..............................\n",
      "Trial  3 of 5 ..............................\n",
      "Trial  4 of 5 ..............................\n",
      "Trial  5 of 5 .............................."
     ]
    }
   ],
   "source": [
    "verbose = False\n",
    "\n",
    "best_observed_all_ei,  best_random_all = [], []\n",
    "\n",
    "\n",
    "# average over multiple trials\n",
    "for trial in range(1, N_TRIALS + 1):\n",
    "\n",
    "    print(f\"\\nTrial {trial:>2} of {N_TRIALS} \", end=\"\")\n",
    "    best_observed_ei, best_random = [], []\n",
    "\n",
    "    # call helper functions to generate initial training data and initialize model\n",
    "    train_x_ei, train_obj_ei, best_observed_value_ei = generate_initial_data(n=10)\n",
    "    mll_ei, model_ei = initialize_model(train_x_ei, train_obj_ei)\n",
    "\n",
    "    best_observed_ei.append(best_observed_value_ei)\n",
    "    best_random.append(best_observed_value_ei)\n",
    "\n",
    "    # run N_BATCH rounds of BayesOpt after the initial random batch\n",
    "    for iteration in range(1, N_BATCH + 1):\n",
    "\n",
    "        t0 = time.monotonic()\n",
    "\n",
    "        # fit the models\n",
    "        fit_gpytorch_mll(mll_ei)\n",
    "\n",
    "        # define the qEI and qNEI acquisition modules using a QMC sampler\n",
    "        qmc_sampler = SobolQMCNormalSampler(sample_shape=torch.Size([MC_SAMPLES]))\n",
    "\n",
    "        # for best_f, we use the best observed noisy values as an approximation\n",
    "        qEI = LogExpectedImprovement(\n",
    "            model=model_ei,\n",
    "            best_f=train_obj_ei.max()\n",
    "        )\n",
    "\n",
    "        # optimize and get new observation\n",
    "        new_x_ei, new_obj_ei = optimize_acqf_and_get_observation(qEI)\n",
    "\n",
    "        # update training points\n",
    "        train_x_ei = torch.cat([train_x_ei, new_x_ei])\n",
    "        train_obj_ei = torch.cat([train_obj_ei, new_obj_ei])\n",
    "\n",
    "        # update progress\n",
    "        best_random = update_random_observations(best_random)\n",
    "        best_value_ei = neg_ackley(train_x_ei).max().item()\n",
    "        best_observed_ei.append(best_value_ei)\n",
    "\n",
    "        # reinitialize the models so they are ready for fitting on next iteration\n",
    "        # use the current state dict to speed up fitting\n",
    "        mll_ei, model_ei = initialize_model(\n",
    "            train_x_ei,\n",
    "            train_obj_ei,\n",
    "            model_ei.state_dict(),\n",
    "        )\n",
    "\n",
    "        t1 = time.monotonic()\n",
    "\n",
    "        if verbose:\n",
    "            print(\n",
    "                f\"\\nBatch {iteration:>2}: best_value (random, qEI) = \"\n",
    "                f\"({max(best_random):>4.2f}, {best_value_ei:>4.2f}), \"\n",
    "                f\"time = {t1-t0:>4.2f}.\",\n",
    "                end=\"\",\n",
    "            )\n",
    "        else:\n",
    "            print(\".\", end=\"\")\n",
    "\n",
    "    best_observed_all_ei.append(best_observed_ei)\n",
    "    best_random_all.append(best_random)"
   ]
  },
  {
   "cell_type": "code",
   "execution_count": 186,
   "metadata": {},
   "outputs": [
    {
     "data": {
      "text/plain": [
       "<matplotlib.legend.Legend at 0x1ff1edae900>"
      ]
     },
     "execution_count": 186,
     "metadata": {},
     "output_type": "execute_result"
    },
    {
     "data": {
      "image/png": "[encoded data removed]",
      "text/plain": [
       "<Figure size 800x600 with 1 Axes>"
      ]
     },
     "metadata": {},
     "output_type": "display_data"
    }
   ],
   "source": [
    "def ci(y):\n",
    "    return 1.96 * y.std(axis=0) / np.sqrt(N_TRIALS)\n",
    "\n",
    "\n",
    "GLOBAL_MAXIMUM = neg_ackley.optimal_value\n",
    "\n",
    "\n",
    "iters = np.arange(N_BATCH + 1) * BATCH_SIZE\n",
    "y_ei = np.asarray(best_observed_all_ei)\n",
    "y_rnd = np.asarray(best_random_all)\n",
    "\n",
    "fig, ax = plt.subplots(1, 1, figsize=(8, 6))\n",
    "ax.errorbar(iters, y_rnd.mean(axis=0), yerr=ci(y_rnd), label=\"random\", linewidth=1.5, alpha=0.5)\n",
    "ax.errorbar(iters, y_ei.mean(axis=0), yerr=ci(y_ei), label=\"qEI\", linewidth=1.5, alpha=0.5)\n",
    "plt.plot(\n",
    "    [0, N_BATCH * BATCH_SIZE],\n",
    "    [GLOBAL_MAXIMUM] * 2,\n",
    "    \"k\",\n",
    "    label=\"true best objective\",\n",
    "    linewidth=2,\n",
    ")\n",
    "ax.set_ylim(np.min([y_ei.min(), y_rnd.min()]))\n",
    "ax.set(\n",
    "    xlabel=\"number of observations (beyond initial points)\",\n",
    "    ylabel=\"best objective value\",\n",
    ")\n",
    "ax.legend(loc=\"lower right\")"
   ]
  }
 ],
 "metadata": {
  "kernelspec": {
   "display_name": "bo",
   "language": "python",
   "name": "python3"
  },
  "language_info": {
   "codemirror_mode": {
    "name": "ipython",
    "version": 3
   },
   "file_extension": ".py",
   "mimetype": "text/x-python",
   "name": "python",
   "nbconvert_exporter": "python",
   "pygments_lexer": "ipython3",
   "version": "3.12.4"
  }
 },
 "nbformat": 4,
 "nbformat_minor": 2
}
